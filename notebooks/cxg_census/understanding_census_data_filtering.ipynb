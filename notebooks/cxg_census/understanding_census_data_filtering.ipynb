{
 "cells": [
  {
   "cell_type": "code",
   "execution_count": 1,
   "id": "e7161bf4-87a6-454f-8bdc-7994f78be1f0",
   "metadata": {},
   "outputs": [],
   "source": [
    "# https://chanzuckerberg.github.io/cellxgene-census/notebooks/api_demo/census_duplicated_cells.html\n"
   ]
  },
  {
   "cell_type": "code",
   "execution_count": 5,
   "id": "3dcee783-0709-42d5-b9e5-cd27cb875ade",
   "metadata": {},
   "outputs": [
    {
     "name": "stderr",
     "output_type": "stream",
     "text": [
      "The \"stable\" release is currently 2025-01-30. Specify 'census_version=\"2025-01-30\"' in future calls to open_soma() to ensure data consistency.\n"
     ]
    }
   ],
   "source": [
    "import cellxgene_census\n",
    "\n",
    "tabula_muris_dataset_id = \"48b37086-25f7-4ecd-be66-f5bb378e3aea\"\n",
    "census = cellxgene_census.open_soma()\n",
    "\n",
    "# GET BY dataset_id\n",
    "tabula_muris_obs = cellxgene_census.get_obs(\n",
    "    census,\n",
    "    \"mus_musculus\",\n",
    "    value_filter=f\"dataset_id == '{tabula_muris_dataset_id}'\",\n",
    "    column_names=[\"tissue\", \"is_primary_data\"],\n",
    ")"
   ]
  },
  {
   "cell_type": "code",
   "execution_count": 21,
   "id": "c622539a-b4b4-4596-b988-33e2f0fdb39a",
   "metadata": {},
   "outputs": [
    {
     "data": {
      "text/plain": [
       "tissue           is_primary_data  dataset_id                          \n",
       "bone marrow      True             48b37086-25f7-4ecd-be66-f5bb378e3aea    40220\n",
       "spleen           True             48b37086-25f7-4ecd-be66-f5bb378e3aea    35718\n",
       "limb muscle      True             48b37086-25f7-4ecd-be66-f5bb378e3aea    28867\n",
       "lung             True             48b37086-25f7-4ecd-be66-f5bb378e3aea    24540\n",
       "kidney           True             48b37086-25f7-4ecd-be66-f5bb378e3aea    21647\n",
       "tongue           True             48b37086-25f7-4ecd-be66-f5bb378e3aea    20680\n",
       "mammary gland    True             48b37086-25f7-4ecd-be66-f5bb378e3aea    12295\n",
       "thymus           True             48b37086-25f7-4ecd-be66-f5bb378e3aea     9275\n",
       "bladder lumen    True             48b37086-25f7-4ecd-be66-f5bb378e3aea     8945\n",
       "heart            True             48b37086-25f7-4ecd-be66-f5bb378e3aea     8613\n",
       "trachea          True             48b37086-25f7-4ecd-be66-f5bb378e3aea     7976\n",
       "liver            True             48b37086-25f7-4ecd-be66-f5bb378e3aea     7294\n",
       "adipose tissue   True             48b37086-25f7-4ecd-be66-f5bb378e3aea     6777\n",
       "pancreas         True             48b37086-25f7-4ecd-be66-f5bb378e3aea     6201\n",
       "skin of body     True             48b37086-25f7-4ecd-be66-f5bb378e3aea     4454\n",
       "large intestine  True             48b37086-25f7-4ecd-be66-f5bb378e3aea     1887\n",
       "Name: count, dtype: int64"
      ]
     },
     "execution_count": 21,
     "metadata": {},
     "output_type": "execute_result"
    }
   ],
   "source": [
    "tabula_muris_obs.value_counts()"
   ]
  },
  {
   "cell_type": "code",
   "execution_count": 22,
   "id": "f9ecee33-6fa1-49ec-b347-1538ffc40dde",
   "metadata": {},
   "outputs": [],
   "source": [
    "\"\"\"\n",
    "But what if we select cells from the dataset that only contains cells from\n",
    "the liver: \"Liver - A single-cell transcriptomic atlas characterizes ageing\n",
    "tissues in the mouse - 10x\"\n",
    "\"\"\"\n",
    "\n",
    "# GET BY dataset_id\n",
    "tabula_muris_liver_dataset_id = \"6202a243-b713-4e12-9ced-c387f8483dea\"\n",
    "tabula_muris_liver_obs = cellxgene_census.get_obs(\n",
    "    census,\n",
    "    \"mus_musculus\",\n",
    "    value_filter=f\"dataset_id == '{tabula_muris_liver_dataset_id}'\",\n",
    "    column_names=[\"tissue\", \"is_primary_data\"],\n",
    ")"
   ]
  },
  {
   "cell_type": "code",
   "execution_count": 23,
   "id": "bc36dee5-7312-49d0-8348-a57a26281227",
   "metadata": {},
   "outputs": [
    {
     "data": {
      "text/plain": [
       "tissue  is_primary_data  dataset_id                          \n",
       "liver   False            6202a243-b713-4e12-9ced-c387f8483dea    7294\n",
       "Name: count, dtype: int64"
      ]
     },
     "execution_count": 23,
     "metadata": {},
     "output_type": "execute_result"
    }
   ],
   "source": [
    "tabula_muris_liver_obs.value_counts()"
   ]
  },
  {
   "cell_type": "code",
   "execution_count": 49,
   "id": "1e2b199d-078e-4f6d-8184-befd0cce1987",
   "metadata": {},
   "outputs": [],
   "source": [
    "\"\"\"\n",
    "Filtering out duplicate cells when reading the obs dataframe\n",
    "\"\"\"\n",
    "\n",
    "# GET BY value_filter QUERY\n",
    "nk_cells = cellxgene_census.get_obs(\n",
    "    census,\n",
    "    \"mus_musculus\",\n",
    "    value_filter=\"cell_type == 'natural killer cell' \"\n",
    "    \"and sex == 'female'\"\n",
    "    \"and is_primary_data == True\"\n",
    "    ,\n",
    ")"
   ]
  },
  {
   "cell_type": "code",
   "execution_count": 50,
   "id": "ce36ecb6-367e-49cb-85ac-9b538f11f3b1",
   "metadata": {},
   "outputs": [
    {
     "data": {
      "text/plain": [
       "(5494, 28)"
      ]
     },
     "execution_count": 50,
     "metadata": {},
     "output_type": "execute_result"
    }
   ],
   "source": [
    "nk_cells.shape"
   ]
  },
  {
   "cell_type": "code",
   "execution_count": 51,
   "id": "75e6168d-2814-4259-8ff9-b2ef9f61cca5",
   "metadata": {},
   "outputs": [
    {
     "data": {
      "text/plain": [
       "Index(['soma_joinid', 'dataset_id', 'assay', 'assay_ontology_term_id',\n",
       "       'cell_type', 'cell_type_ontology_term_id', 'development_stage',\n",
       "       'development_stage_ontology_term_id', 'disease',\n",
       "       'disease_ontology_term_id', 'donor_id', 'is_primary_data',\n",
       "       'observation_joinid', 'self_reported_ethnicity',\n",
       "       'self_reported_ethnicity_ontology_term_id', 'sex',\n",
       "       'sex_ontology_term_id', 'suspension_type', 'tissue',\n",
       "       'tissue_ontology_term_id', 'tissue_type', 'tissue_general',\n",
       "       'tissue_general_ontology_term_id', 'raw_sum', 'nnz', 'raw_mean_nnz',\n",
       "       'raw_variance_nnz', 'n_measured_vars'],\n",
       "      dtype='object')"
      ]
     },
     "execution_count": 51,
     "metadata": {},
     "output_type": "execute_result"
    }
   ],
   "source": [
    "nk_cells.keys()"
   ]
  },
  {
   "cell_type": "code",
   "execution_count": 52,
   "id": "f77bd5aa-8acf-42dc-b767-316eefbd0878",
   "metadata": {},
   "outputs": [
    {
     "data": {
      "text/plain": [
       "['brain', 'central nervous system', 'bone marrow', 'spleen', 'adipose tissue', 'liver', 'lung', 'endocrine gland', 'kidney', 'embryo']\n",
       "Categories (36, object): ['adipose tissue', 'blood', 'bone marrow', 'brain', ..., 'tongue', 'urethra', 'urinary bladder', 'vasculature']"
      ]
     },
     "execution_count": 52,
     "metadata": {},
     "output_type": "execute_result"
    }
   ],
   "source": [
    "# nk_cells[\"disease\"].unique()\n",
    "nk_cells[\"tissue\"].unique()\n",
    "nk_cells[\"tissue_general\"].unique()\n",
    "# nk_cells.value_counts()"
   ]
  },
  {
   "cell_type": "code",
   "execution_count": 53,
   "id": "4c76792b-b4fb-49c0-be10-060461fa9b5d",
   "metadata": {},
   "outputs": [],
   "source": [
    "\"\"\"\n",
    "Filtering out duplicate cells when creating an AnnData\n",
    "\"\"\"\n",
    "adata = cellxgene_census.get_anndata(\n",
    "    census,\n",
    "    organism=\"Homo sapiens\",\n",
    "    var_value_filter=\"feature_name == 'AQP5'\",\n",
    "    obs_value_filter=\"cell_type == 'natural killer cell' \"\n",
    "    \"and sex == 'female'\"\n",
    "    \"and tissue_general == 'blood'\",\n",
    ")"
   ]
  },
  {
   "cell_type": "code",
   "execution_count": 55,
   "id": "a0fbceb1-2183-4652-8f6c-6fbe5a0932a8",
   "metadata": {},
   "outputs": [
    {
     "data": {
      "text/plain": [
       "335619"
      ]
     },
     "execution_count": 55,
     "metadata": {},
     "output_type": "execute_result"
    }
   ],
   "source": [
    "len(adata.obs)"
   ]
  },
  {
   "cell_type": "code",
   "execution_count": 56,
   "id": "e6265459-79c0-4f1f-9796-ae86174d6c77",
   "metadata": {},
   "outputs": [
    {
     "data": {
      "text/plain": [
       "AnnData object with n_obs × n_vars = 335619 × 1\n",
       "    obs: 'soma_joinid', 'dataset_id', 'assay', 'assay_ontology_term_id', 'cell_type', 'cell_type_ontology_term_id', 'development_stage', 'development_stage_ontology_term_id', 'disease', 'disease_ontology_term_id', 'donor_id', 'is_primary_data', 'observation_joinid', 'self_reported_ethnicity', 'self_reported_ethnicity_ontology_term_id', 'sex', 'sex_ontology_term_id', 'suspension_type', 'tissue', 'tissue_ontology_term_id', 'tissue_type', 'tissue_general', 'tissue_general_ontology_term_id', 'raw_sum', 'nnz', 'raw_mean_nnz', 'raw_variance_nnz', 'n_measured_vars'\n",
       "    var: 'soma_joinid', 'feature_id', 'feature_name', 'feature_type', 'feature_length', 'nnz', 'n_measured_obs'"
      ]
     },
     "execution_count": 56,
     "metadata": {},
     "output_type": "execute_result"
    }
   ],
   "source": [
    "adata"
   ]
  }
 ],
 "metadata": {
  "kernelspec": {
   "display_name": "Python 3 (ipykernel)",
   "language": "python",
   "name": "python3"
  },
  "language_info": {
   "codemirror_mode": {
    "name": "ipython",
    "version": 3
   },
   "file_extension": ".py",
   "mimetype": "text/x-python",
   "name": "python",
   "nbconvert_exporter": "python",
   "pygments_lexer": "ipython3",
   "version": "3.13.0"
  }
 },
 "nbformat": 4,
 "nbformat_minor": 5
}
