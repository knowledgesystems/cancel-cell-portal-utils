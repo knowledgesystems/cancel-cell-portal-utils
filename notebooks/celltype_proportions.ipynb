{
 "cells": [
  {
   "cell_type": "code",
   "execution_count": 8,
   "id": "c7dad5d8-b807-4a77-970f-9d4128467527",
   "metadata": {},
   "outputs": [],
   "source": [
    "import anndata as ad\n",
    "import scanpy as sc"
   ]
  },
  {
   "cell_type": "code",
   "execution_count": 9,
   "id": "3aba39da-8f18-4c86-8cb9-51fcd0efdb2d",
   "metadata": {},
   "outputs": [],
   "source": [
    "d1 = \"../data/web/htan-msk-transcriptional-activity-tme-therapy-strategies/DT1_A1_IGO_11440_9.h5ad\" # Annotated for CellxGene\n",
    "#d2 = \"../data/web/msk-scope/gastric-wholecohort-regularUMAP-annotated-dec13.h5ad\" # Not Annotated for CellxGene\n",
    "#d3 = \"../data/web/msk-spectrum/spectrum_all_cells.h5ad\" # Annotated for CellxGene\n",
    "#d4 = \"../data/web/btc-gbm/gbm_filtered_processing2.h5ad\" # Not Annotated for CellxGene\n",
    "adata = ad.read_h5ad(d1)"
   ]
  },
  {
   "cell_type": "code",
   "execution_count": 10,
   "id": "6a057797-5e41-46c1-8616-ebc13d763179",
   "metadata": {},
   "outputs": [
    {
     "data": {
      "text/plain": [
       "AnnData object with n_obs × n_vars = 4992 × 30810\n",
       "    obs: 'in_tissue', 'array_row', 'array_col', 'suspension_type', 'assay_ontology_term_id', 'donor_id', 'organism_ontology_term_id', 'sex_ontology_term_id', 'development_stage_ontology_term_id', 'self_reported_ethnicity_ontology_term_id', 'disease_ontology_term_id', 'tissue_type', 'tissue_ontology_term_id', 'Pericyte', 'Col14a1..fibroblast', 'Myofibroblast', 'Col13a1..fibroblast', 'Mesothelial', 'MSC', 'Monocyte', 'cDC', 'Alveolar.macrophage', 'Macrophage', 'Ccr7..cDC2', 'pDC', 'T.cell.ILC2', 'NK', 'Lymphatic.endothelial', 'Car4..capillary', 'Plvap..capillary', 'AT1', 'AT2', 'Ciliated', 'Skeletal.muscle.cell', 'Neutrophil', 'B.cell', 'Basophil', 'Platelet', 'EMT', 'Lung.progenitor.like', 'AT1.like', 'Gastric', 'AT2.like', 'Endoderm.like', 'High.plasticity', 'author_cell_type', 'cell_type_ontology_term_id', 'is_primary_data', 'cell_type', 'assay', 'disease', 'organism', 'sex', 'tissue', 'self_reported_ethnicity', 'development_stage', 'observation_joinid'\n",
       "    var: 'gene_ids', 'feature_types', 'genome', 'feature_is_filtered', 'feature_name', 'feature_reference', 'feature_biotype', 'feature_length', 'feature_type'\n",
       "    uns: 'citation', 'schema_reference', 'schema_version', 'spatial', 'spatial_metadata', 'title'\n",
       "    obsm: 'spatial'"
      ]
     },
     "execution_count": 10,
     "metadata": {},
     "output_type": "execute_result"
    }
   ],
   "source": [
    "adata"
   ]
  },
  {
   "cell_type": "code",
   "execution_count": 11,
   "id": "8a7c924d-8bb0-4a75-921c-36c51fbbc5eb",
   "metadata": {},
   "outputs": [
    {
     "data": {
      "text/html": [
       "<div>\n",
       "<style scoped>\n",
       "    .dataframe tbody tr th:only-of-type {\n",
       "        vertical-align: middle;\n",
       "    }\n",
       "\n",
       "    .dataframe tbody tr th {\n",
       "        vertical-align: top;\n",
       "    }\n",
       "\n",
       "    .dataframe thead th {\n",
       "        text-align: right;\n",
       "    }\n",
       "</style>\n",
       "<table border=\"1\" class=\"dataframe\">\n",
       "  <thead>\n",
       "    <tr style=\"text-align: right;\">\n",
       "      <th></th>\n",
       "      <th>in_tissue</th>\n",
       "      <th>array_row</th>\n",
       "      <th>array_col</th>\n",
       "      <th>suspension_type</th>\n",
       "      <th>assay_ontology_term_id</th>\n",
       "      <th>donor_id</th>\n",
       "      <th>organism_ontology_term_id</th>\n",
       "      <th>sex_ontology_term_id</th>\n",
       "      <th>development_stage_ontology_term_id</th>\n",
       "      <th>self_reported_ethnicity_ontology_term_id</th>\n",
       "      <th>...</th>\n",
       "      <th>is_primary_data</th>\n",
       "      <th>cell_type</th>\n",
       "      <th>assay</th>\n",
       "      <th>disease</th>\n",
       "      <th>organism</th>\n",
       "      <th>sex</th>\n",
       "      <th>tissue</th>\n",
       "      <th>self_reported_ethnicity</th>\n",
       "      <th>development_stage</th>\n",
       "      <th>observation_joinid</th>\n",
       "    </tr>\n",
       "  </thead>\n",
       "  <tbody>\n",
       "    <tr>\n",
       "      <th>AAACAACGAATAGTTC-1</th>\n",
       "      <td>0</td>\n",
       "      <td>0</td>\n",
       "      <td>16</td>\n",
       "      <td>na</td>\n",
       "      <td>EFO:0010961</td>\n",
       "      <td>DT1_A1_I</td>\n",
       "      <td>NCBITaxon:10090</td>\n",
       "      <td>unknown</td>\n",
       "      <td>MmusDv:0000069</td>\n",
       "      <td>na</td>\n",
       "      <td>...</td>\n",
       "      <td>True</td>\n",
       "      <td>unknown</td>\n",
       "      <td>Visium Spatial Gene Expression</td>\n",
       "      <td>normal</td>\n",
       "      <td>Mus musculus</td>\n",
       "      <td>unknown</td>\n",
       "      <td>lung</td>\n",
       "      <td>na</td>\n",
       "      <td>5-month-old stage</td>\n",
       "      <td>S{qkR!yc~8</td>\n",
       "    </tr>\n",
       "    <tr>\n",
       "      <th>AAACAAGTATCTCCCA-1</th>\n",
       "      <td>1</td>\n",
       "      <td>50</td>\n",
       "      <td>102</td>\n",
       "      <td>na</td>\n",
       "      <td>EFO:0010961</td>\n",
       "      <td>DT1_A1_I</td>\n",
       "      <td>NCBITaxon:10090</td>\n",
       "      <td>unknown</td>\n",
       "      <td>MmusDv:0000069</td>\n",
       "      <td>na</td>\n",
       "      <td>...</td>\n",
       "      <td>True</td>\n",
       "      <td>epithelial cell</td>\n",
       "      <td>Visium Spatial Gene Expression</td>\n",
       "      <td>normal</td>\n",
       "      <td>Mus musculus</td>\n",
       "      <td>unknown</td>\n",
       "      <td>lung</td>\n",
       "      <td>na</td>\n",
       "      <td>5-month-old stage</td>\n",
       "      <td>gFD!+Zqd(i</td>\n",
       "    </tr>\n",
       "    <tr>\n",
       "      <th>AAACAATCTACTAGCA-1</th>\n",
       "      <td>0</td>\n",
       "      <td>3</td>\n",
       "      <td>43</td>\n",
       "      <td>na</td>\n",
       "      <td>EFO:0010961</td>\n",
       "      <td>DT1_A1_I</td>\n",
       "      <td>NCBITaxon:10090</td>\n",
       "      <td>unknown</td>\n",
       "      <td>MmusDv:0000069</td>\n",
       "      <td>na</td>\n",
       "      <td>...</td>\n",
       "      <td>True</td>\n",
       "      <td>unknown</td>\n",
       "      <td>Visium Spatial Gene Expression</td>\n",
       "      <td>normal</td>\n",
       "      <td>Mus musculus</td>\n",
       "      <td>unknown</td>\n",
       "      <td>lung</td>\n",
       "      <td>na</td>\n",
       "      <td>5-month-old stage</td>\n",
       "      <td>OsSlEREYZW</td>\n",
       "    </tr>\n",
       "    <tr>\n",
       "      <th>AAACACCAATAACTGC-1</th>\n",
       "      <td>1</td>\n",
       "      <td>59</td>\n",
       "      <td>19</td>\n",
       "      <td>na</td>\n",
       "      <td>EFO:0010961</td>\n",
       "      <td>DT1_A1_I</td>\n",
       "      <td>NCBITaxon:10090</td>\n",
       "      <td>unknown</td>\n",
       "      <td>MmusDv:0000069</td>\n",
       "      <td>na</td>\n",
       "      <td>...</td>\n",
       "      <td>True</td>\n",
       "      <td>epithelial cell</td>\n",
       "      <td>Visium Spatial Gene Expression</td>\n",
       "      <td>normal</td>\n",
       "      <td>Mus musculus</td>\n",
       "      <td>unknown</td>\n",
       "      <td>lung</td>\n",
       "      <td>na</td>\n",
       "      <td>5-month-old stage</td>\n",
       "      <td>zuU(#yRj2=</td>\n",
       "    </tr>\n",
       "    <tr>\n",
       "      <th>AAACAGAGCGACTCCT-1</th>\n",
       "      <td>1</td>\n",
       "      <td>14</td>\n",
       "      <td>94</td>\n",
       "      <td>na</td>\n",
       "      <td>EFO:0010961</td>\n",
       "      <td>DT1_A1_I</td>\n",
       "      <td>NCBITaxon:10090</td>\n",
       "      <td>unknown</td>\n",
       "      <td>MmusDv:0000069</td>\n",
       "      <td>na</td>\n",
       "      <td>...</td>\n",
       "      <td>True</td>\n",
       "      <td>epithelial cell</td>\n",
       "      <td>Visium Spatial Gene Expression</td>\n",
       "      <td>normal</td>\n",
       "      <td>Mus musculus</td>\n",
       "      <td>unknown</td>\n",
       "      <td>lung</td>\n",
       "      <td>na</td>\n",
       "      <td>5-month-old stage</td>\n",
       "      <td>-$&lt;USDZJGm</td>\n",
       "    </tr>\n",
       "    <tr>\n",
       "      <th>...</th>\n",
       "      <td>...</td>\n",
       "      <td>...</td>\n",
       "      <td>...</td>\n",
       "      <td>...</td>\n",
       "      <td>...</td>\n",
       "      <td>...</td>\n",
       "      <td>...</td>\n",
       "      <td>...</td>\n",
       "      <td>...</td>\n",
       "      <td>...</td>\n",
       "      <td>...</td>\n",
       "      <td>...</td>\n",
       "      <td>...</td>\n",
       "      <td>...</td>\n",
       "      <td>...</td>\n",
       "      <td>...</td>\n",
       "      <td>...</td>\n",
       "      <td>...</td>\n",
       "      <td>...</td>\n",
       "      <td>...</td>\n",
       "      <td>...</td>\n",
       "    </tr>\n",
       "    <tr>\n",
       "      <th>TTGTTTCACATCCAGG-1</th>\n",
       "      <td>1</td>\n",
       "      <td>58</td>\n",
       "      <td>42</td>\n",
       "      <td>na</td>\n",
       "      <td>EFO:0010961</td>\n",
       "      <td>DT1_A1_I</td>\n",
       "      <td>NCBITaxon:10090</td>\n",
       "      <td>unknown</td>\n",
       "      <td>MmusDv:0000069</td>\n",
       "      <td>na</td>\n",
       "      <td>...</td>\n",
       "      <td>True</td>\n",
       "      <td>epithelial cell</td>\n",
       "      <td>Visium Spatial Gene Expression</td>\n",
       "      <td>normal</td>\n",
       "      <td>Mus musculus</td>\n",
       "      <td>unknown</td>\n",
       "      <td>lung</td>\n",
       "      <td>na</td>\n",
       "      <td>5-month-old stage</td>\n",
       "      <td>!-K_Z3vDq*</td>\n",
       "    </tr>\n",
       "    <tr>\n",
       "      <th>TTGTTTCATTAGTCTA-1</th>\n",
       "      <td>1</td>\n",
       "      <td>60</td>\n",
       "      <td>30</td>\n",
       "      <td>na</td>\n",
       "      <td>EFO:0010961</td>\n",
       "      <td>DT1_A1_I</td>\n",
       "      <td>NCBITaxon:10090</td>\n",
       "      <td>unknown</td>\n",
       "      <td>MmusDv:0000069</td>\n",
       "      <td>na</td>\n",
       "      <td>...</td>\n",
       "      <td>True</td>\n",
       "      <td>epithelial cell</td>\n",
       "      <td>Visium Spatial Gene Expression</td>\n",
       "      <td>normal</td>\n",
       "      <td>Mus musculus</td>\n",
       "      <td>unknown</td>\n",
       "      <td>lung</td>\n",
       "      <td>na</td>\n",
       "      <td>5-month-old stage</td>\n",
       "      <td>&amp;q#Fy^DD*S</td>\n",
       "    </tr>\n",
       "    <tr>\n",
       "      <th>TTGTTTCCATACAACT-1</th>\n",
       "      <td>1</td>\n",
       "      <td>45</td>\n",
       "      <td>27</td>\n",
       "      <td>na</td>\n",
       "      <td>EFO:0010961</td>\n",
       "      <td>DT1_A1_I</td>\n",
       "      <td>NCBITaxon:10090</td>\n",
       "      <td>unknown</td>\n",
       "      <td>MmusDv:0000069</td>\n",
       "      <td>na</td>\n",
       "      <td>...</td>\n",
       "      <td>True</td>\n",
       "      <td>epithelial cell</td>\n",
       "      <td>Visium Spatial Gene Expression</td>\n",
       "      <td>normal</td>\n",
       "      <td>Mus musculus</td>\n",
       "      <td>unknown</td>\n",
       "      <td>lung</td>\n",
       "      <td>na</td>\n",
       "      <td>5-month-old stage</td>\n",
       "      <td>ZuyRYj_t&lt;2</td>\n",
       "    </tr>\n",
       "    <tr>\n",
       "      <th>TTGTTTGTATTACACG-1</th>\n",
       "      <td>1</td>\n",
       "      <td>73</td>\n",
       "      <td>41</td>\n",
       "      <td>na</td>\n",
       "      <td>EFO:0010961</td>\n",
       "      <td>DT1_A1_I</td>\n",
       "      <td>NCBITaxon:10090</td>\n",
       "      <td>unknown</td>\n",
       "      <td>MmusDv:0000069</td>\n",
       "      <td>na</td>\n",
       "      <td>...</td>\n",
       "      <td>True</td>\n",
       "      <td>epithelial cell</td>\n",
       "      <td>Visium Spatial Gene Expression</td>\n",
       "      <td>normal</td>\n",
       "      <td>Mus musculus</td>\n",
       "      <td>unknown</td>\n",
       "      <td>lung</td>\n",
       "      <td>na</td>\n",
       "      <td>5-month-old stage</td>\n",
       "      <td>;D9RPjix7Z</td>\n",
       "    </tr>\n",
       "    <tr>\n",
       "      <th>TTGTTTGTGTAAATTC-1</th>\n",
       "      <td>0</td>\n",
       "      <td>7</td>\n",
       "      <td>51</td>\n",
       "      <td>na</td>\n",
       "      <td>EFO:0010961</td>\n",
       "      <td>DT1_A1_I</td>\n",
       "      <td>NCBITaxon:10090</td>\n",
       "      <td>unknown</td>\n",
       "      <td>MmusDv:0000069</td>\n",
       "      <td>na</td>\n",
       "      <td>...</td>\n",
       "      <td>True</td>\n",
       "      <td>unknown</td>\n",
       "      <td>Visium Spatial Gene Expression</td>\n",
       "      <td>normal</td>\n",
       "      <td>Mus musculus</td>\n",
       "      <td>unknown</td>\n",
       "      <td>lung</td>\n",
       "      <td>na</td>\n",
       "      <td>5-month-old stage</td>\n",
       "      <td>I+x(ssSw&amp;R</td>\n",
       "    </tr>\n",
       "  </tbody>\n",
       "</table>\n",
       "<p>4992 rows × 57 columns</p>\n",
       "</div>"
      ],
      "text/plain": [
       "                    in_tissue  array_row  array_col suspension_type  \\\n",
       "AAACAACGAATAGTTC-1          0          0         16              na   \n",
       "AAACAAGTATCTCCCA-1          1         50        102              na   \n",
       "AAACAATCTACTAGCA-1          0          3         43              na   \n",
       "AAACACCAATAACTGC-1          1         59         19              na   \n",
       "AAACAGAGCGACTCCT-1          1         14         94              na   \n",
       "...                       ...        ...        ...             ...   \n",
       "TTGTTTCACATCCAGG-1          1         58         42              na   \n",
       "TTGTTTCATTAGTCTA-1          1         60         30              na   \n",
       "TTGTTTCCATACAACT-1          1         45         27              na   \n",
       "TTGTTTGTATTACACG-1          1         73         41              na   \n",
       "TTGTTTGTGTAAATTC-1          0          7         51              na   \n",
       "\n",
       "                   assay_ontology_term_id  donor_id organism_ontology_term_id  \\\n",
       "AAACAACGAATAGTTC-1            EFO:0010961  DT1_A1_I           NCBITaxon:10090   \n",
       "AAACAAGTATCTCCCA-1            EFO:0010961  DT1_A1_I           NCBITaxon:10090   \n",
       "AAACAATCTACTAGCA-1            EFO:0010961  DT1_A1_I           NCBITaxon:10090   \n",
       "AAACACCAATAACTGC-1            EFO:0010961  DT1_A1_I           NCBITaxon:10090   \n",
       "AAACAGAGCGACTCCT-1            EFO:0010961  DT1_A1_I           NCBITaxon:10090   \n",
       "...                                   ...       ...                       ...   \n",
       "TTGTTTCACATCCAGG-1            EFO:0010961  DT1_A1_I           NCBITaxon:10090   \n",
       "TTGTTTCATTAGTCTA-1            EFO:0010961  DT1_A1_I           NCBITaxon:10090   \n",
       "TTGTTTCCATACAACT-1            EFO:0010961  DT1_A1_I           NCBITaxon:10090   \n",
       "TTGTTTGTATTACACG-1            EFO:0010961  DT1_A1_I           NCBITaxon:10090   \n",
       "TTGTTTGTGTAAATTC-1            EFO:0010961  DT1_A1_I           NCBITaxon:10090   \n",
       "\n",
       "                   sex_ontology_term_id development_stage_ontology_term_id  \\\n",
       "AAACAACGAATAGTTC-1              unknown                     MmusDv:0000069   \n",
       "AAACAAGTATCTCCCA-1              unknown                     MmusDv:0000069   \n",
       "AAACAATCTACTAGCA-1              unknown                     MmusDv:0000069   \n",
       "AAACACCAATAACTGC-1              unknown                     MmusDv:0000069   \n",
       "AAACAGAGCGACTCCT-1              unknown                     MmusDv:0000069   \n",
       "...                                 ...                                ...   \n",
       "TTGTTTCACATCCAGG-1              unknown                     MmusDv:0000069   \n",
       "TTGTTTCATTAGTCTA-1              unknown                     MmusDv:0000069   \n",
       "TTGTTTCCATACAACT-1              unknown                     MmusDv:0000069   \n",
       "TTGTTTGTATTACACG-1              unknown                     MmusDv:0000069   \n",
       "TTGTTTGTGTAAATTC-1              unknown                     MmusDv:0000069   \n",
       "\n",
       "                   self_reported_ethnicity_ontology_term_id  ...  \\\n",
       "AAACAACGAATAGTTC-1                                       na  ...   \n",
       "AAACAAGTATCTCCCA-1                                       na  ...   \n",
       "AAACAATCTACTAGCA-1                                       na  ...   \n",
       "AAACACCAATAACTGC-1                                       na  ...   \n",
       "AAACAGAGCGACTCCT-1                                       na  ...   \n",
       "...                                                     ...  ...   \n",
       "TTGTTTCACATCCAGG-1                                       na  ...   \n",
       "TTGTTTCATTAGTCTA-1                                       na  ...   \n",
       "TTGTTTCCATACAACT-1                                       na  ...   \n",
       "TTGTTTGTATTACACG-1                                       na  ...   \n",
       "TTGTTTGTGTAAATTC-1                                       na  ...   \n",
       "\n",
       "                   is_primary_data        cell_type  \\\n",
       "AAACAACGAATAGTTC-1            True          unknown   \n",
       "AAACAAGTATCTCCCA-1            True  epithelial cell   \n",
       "AAACAATCTACTAGCA-1            True          unknown   \n",
       "AAACACCAATAACTGC-1            True  epithelial cell   \n",
       "AAACAGAGCGACTCCT-1            True  epithelial cell   \n",
       "...                            ...              ...   \n",
       "TTGTTTCACATCCAGG-1            True  epithelial cell   \n",
       "TTGTTTCATTAGTCTA-1            True  epithelial cell   \n",
       "TTGTTTCCATACAACT-1            True  epithelial cell   \n",
       "TTGTTTGTATTACACG-1            True  epithelial cell   \n",
       "TTGTTTGTGTAAATTC-1            True          unknown   \n",
       "\n",
       "                                             assay  disease      organism  \\\n",
       "AAACAACGAATAGTTC-1  Visium Spatial Gene Expression   normal  Mus musculus   \n",
       "AAACAAGTATCTCCCA-1  Visium Spatial Gene Expression   normal  Mus musculus   \n",
       "AAACAATCTACTAGCA-1  Visium Spatial Gene Expression   normal  Mus musculus   \n",
       "AAACACCAATAACTGC-1  Visium Spatial Gene Expression   normal  Mus musculus   \n",
       "AAACAGAGCGACTCCT-1  Visium Spatial Gene Expression   normal  Mus musculus   \n",
       "...                                            ...      ...           ...   \n",
       "TTGTTTCACATCCAGG-1  Visium Spatial Gene Expression   normal  Mus musculus   \n",
       "TTGTTTCATTAGTCTA-1  Visium Spatial Gene Expression   normal  Mus musculus   \n",
       "TTGTTTCCATACAACT-1  Visium Spatial Gene Expression   normal  Mus musculus   \n",
       "TTGTTTGTATTACACG-1  Visium Spatial Gene Expression   normal  Mus musculus   \n",
       "TTGTTTGTGTAAATTC-1  Visium Spatial Gene Expression   normal  Mus musculus   \n",
       "\n",
       "                        sex  tissue  self_reported_ethnicity  \\\n",
       "AAACAACGAATAGTTC-1  unknown    lung                       na   \n",
       "AAACAAGTATCTCCCA-1  unknown    lung                       na   \n",
       "AAACAATCTACTAGCA-1  unknown    lung                       na   \n",
       "AAACACCAATAACTGC-1  unknown    lung                       na   \n",
       "AAACAGAGCGACTCCT-1  unknown    lung                       na   \n",
       "...                     ...     ...                      ...   \n",
       "TTGTTTCACATCCAGG-1  unknown    lung                       na   \n",
       "TTGTTTCATTAGTCTA-1  unknown    lung                       na   \n",
       "TTGTTTCCATACAACT-1  unknown    lung                       na   \n",
       "TTGTTTGTATTACACG-1  unknown    lung                       na   \n",
       "TTGTTTGTGTAAATTC-1  unknown    lung                       na   \n",
       "\n",
       "                    development_stage  observation_joinid  \n",
       "AAACAACGAATAGTTC-1  5-month-old stage          S{qkR!yc~8  \n",
       "AAACAAGTATCTCCCA-1  5-month-old stage          gFD!+Zqd(i  \n",
       "AAACAATCTACTAGCA-1  5-month-old stage          OsSlEREYZW  \n",
       "AAACACCAATAACTGC-1  5-month-old stage          zuU(#yRj2=  \n",
       "AAACAGAGCGACTCCT-1  5-month-old stage          -$<USDZJGm  \n",
       "...                               ...                 ...  \n",
       "TTGTTTCACATCCAGG-1  5-month-old stage          !-K_Z3vDq*  \n",
       "TTGTTTCATTAGTCTA-1  5-month-old stage          &q#Fy^DD*S  \n",
       "TTGTTTCCATACAACT-1  5-month-old stage          ZuyRYj_t<2  \n",
       "TTGTTTGTATTACACG-1  5-month-old stage          ;D9RPjix7Z  \n",
       "TTGTTTGTGTAAATTC-1  5-month-old stage          I+x(ssSw&R  \n",
       "\n",
       "[4992 rows x 57 columns]"
      ]
     },
     "execution_count": 11,
     "metadata": {},
     "output_type": "execute_result"
    }
   ],
   "source": [
    "adata.obs"
   ]
  },
  {
   "cell_type": "code",
   "execution_count": 12,
   "id": "bd3f7d91-3a97-4023-98ea-bfde246d3d7b",
   "metadata": {},
   "outputs": [
    {
     "data": {
      "text/plain": [
       "<Compressed Sparse Row sparse matrix of dtype 'float64'\n",
       "\twith 12574409 stored elements and shape (4992, 30810)>"
      ]
     },
     "execution_count": 12,
     "metadata": {},
     "output_type": "execute_result"
    }
   ],
   "source": [
    "adata.X"
   ]
  },
  {
   "cell_type": "code",
   "execution_count": 16,
   "id": "90b75d75-2c2e-4aab-be40-d24633a42cd2",
   "metadata": {},
   "outputs": [
    {
     "data": {
      "text/plain": [
       "Index(['ENSMUSG00000051951', 'ENSMUSG00000089699', 'ENSMUSG00000102343',\n",
       "       'ENSMUSG00000025900', 'ENSMUSG00000025902', 'ENSMUSG00000104328',\n",
       "       'ENSMUSG00000033845', 'ENSMUSG00000025903', 'ENSMUSG00000104217',\n",
       "       'ENSMUSG00000033813',\n",
       "       ...\n",
       "       'ENSMUSG00000064354', 'ENSMUSG00000064356', 'ENSMUSG00000064357',\n",
       "       'ENSMUSG00000064358', 'ENSMUSG00000064360', 'ENSMUSG00000065947',\n",
       "       'ENSMUSG00000064363', 'ENSMUSG00000064367', 'ENSMUSG00000064368',\n",
       "       'ENSMUSG00000064370'],\n",
       "      dtype='object', name='gene_ids', length=30810)"
      ]
     },
     "execution_count": 16,
     "metadata": {},
     "output_type": "execute_result"
    }
   ],
   "source": [
    "adata.var_names"
   ]
  },
  {
   "cell_type": "code",
   "execution_count": 24,
   "id": "025ec002-442f-403c-9e78-2e720745842a",
   "metadata": {},
   "outputs": [
    {
     "data": {
      "image/png": "[encoded data removed]",
      "text/plain": [
       "<Figure size 261x485 with 4 Axes>"
      ]
     },
     "metadata": {},
     "output_type": "display_data"
    }
   ],
   "source": [
    "sc.pl.dotplot(adata, ['ENSMUSG00000064354','ENSMUSG00000064360','ENSMUSG00000064370'], groupby='cell_type')"
   ]
  },
  {
   "cell_type": "code",
   "execution_count": 13,
   "id": "60723905-e9f5-4708-8b82-8c6ce4ae3e0c",
   "metadata": {},
   "outputs": [
    {
     "data": {
      "text/plain": [
       "Index(['in_tissue', 'array_row', 'array_col', 'suspension_type',\n",
       "       'assay_ontology_term_id', 'donor_id', 'organism_ontology_term_id',\n",
       "       'sex_ontology_term_id', 'development_stage_ontology_term_id',\n",
       "       'self_reported_ethnicity_ontology_term_id', 'disease_ontology_term_id',\n",
       "       'tissue_type', 'tissue_ontology_term_id', 'Pericyte',\n",
       "       'Col14a1..fibroblast', 'Myofibroblast', 'Col13a1..fibroblast',\n",
       "       'Mesothelial', 'MSC', 'Monocyte', 'cDC', 'Alveolar.macrophage',\n",
       "       'Macrophage', 'Ccr7..cDC2', 'pDC', 'T.cell.ILC2', 'NK',\n",
       "       'Lymphatic.endothelial', 'Car4..capillary', 'Plvap..capillary', 'AT1',\n",
       "       'AT2', 'Ciliated', 'Skeletal.muscle.cell', 'Neutrophil', 'B.cell',\n",
       "       'Basophil', 'Platelet', 'EMT', 'Lung.progenitor.like', 'AT1.like',\n",
       "       'Gastric', 'AT2.like', 'Endoderm.like', 'High.plasticity',\n",
       "       'author_cell_type', 'cell_type_ontology_term_id', 'is_primary_data',\n",
       "       'cell_type', 'assay', 'disease', 'organism', 'sex', 'tissue',\n",
       "       'self_reported_ethnicity', 'development_stage', 'observation_joinid'],\n",
       "      dtype='object')"
      ]
     },
     "execution_count": 13,
     "metadata": {},
     "output_type": "execute_result"
    }
   ],
   "source": [
    "adata.obs.keys()"
   ]
  },
  {
   "cell_type": "code",
   "execution_count": 10,
   "id": "b9ddf7bd-4eb9-4f01-ab7a-e462ce826009",
   "metadata": {},
   "outputs": [
    {
     "data": {
      "text/plain": [
       "assay_ontology_term_id\n",
       "EFO:0009922    927205\n",
       "Name: count, dtype: int64"
      ]
     },
     "execution_count": 10,
     "metadata": {},
     "output_type": "execute_result"
    }
   ],
   "source": [
    "adata.obs['assay_ontology_term_id'].value_counts()"
   ]
  },
  {
   "cell_type": "code",
   "execution_count": 5,
   "id": "e9ac1939-19ba-4fdb-9284-c08063397baf",
   "metadata": {},
   "outputs": [
    {
     "data": {
      "text/plain": [
       "cell_type\n",
       "T cell                                      250334\n",
       "fallopian tube secretory epithelial cell    250281\n",
       "monocyte                                    201217\n",
       "fibroblast                                  161198\n",
       "plasma cell                                  20944\n",
       "B cell                                       18673\n",
       "endothelial cell                             18483\n",
       "dendritic cell                                4814\n",
       "mast cell                                     1257\n",
       "unknown                                          4\n",
       "Name: count, dtype: int64"
      ]
     },
     "execution_count": 5,
     "metadata": {},
     "output_type": "execute_result"
    }
   ],
   "source": [
    "adata.obs['cell_type'].value_counts()"
   ]
  },
  {
   "cell_type": "code",
   "execution_count": 20,
   "id": "e70c2638-09b6-46e1-8f49-36f0d41a3c3a",
   "metadata": {},
   "outputs": [
    {
     "data": {
      "text/plain": [
       "celltype_L1\n",
       "T/NK       98274\n",
       "B          23560\n",
       "Plasma     19774\n",
       "Myeloid    11373\n",
       "Name: count, dtype: int64"
      ]
     },
     "execution_count": 20,
     "metadata": {},
     "output_type": "execute_result"
    }
   ],
   "source": [
    "adata.obs['celltype_L1'].value_counts()"
   ]
  },
  {
   "cell_type": "code",
   "execution_count": 21,
   "id": "1871621f-f3ab-4f32-bdd3-7326fde816c3",
   "metadata": {},
   "outputs": [
    {
     "data": {
      "text/plain": [
       "celltype_L3\n",
       "CD4                     54794\n",
       "CD8                     36086\n",
       "B                       21024\n",
       "Plasma (IgA + IgK)      10190\n",
       "Myeloid                  8876\n",
       "Plasma (IgA +IgL)        7248\n",
       "NK                       4665\n",
       "Plasma (IgG +IgK)        2336\n",
       "Mast                     1687\n",
       "gdT                      1685\n",
       "B (naive/progenitor)     1467\n",
       "B (activated/memory      1069\n",
       "Plasmacytoid DC           810\n",
       "NKT                       555\n",
       "MAIT                      489\n",
       "Name: count, dtype: int64"
      ]
     },
     "execution_count": 21,
     "metadata": {},
     "output_type": "execute_result"
    }
   ],
   "source": [
    "adata.obs['celltype_L3'].value_counts()"
   ]
  },
  {
   "cell_type": "code",
   "execution_count": 22,
   "id": "8f4306b9-5178-4923-8e0e-66812df3a8d9",
   "metadata": {},
   "outputs": [
    {
     "data": {
      "text/plain": [
       "celltype_L5\n",
       "B                            21024\n",
       "Plasma (IgA + IgK)           10190\n",
       "CD4 naive                     9300\n",
       "CD4 effector memory           7802\n",
       "Plasma (IgA +IgL)             7248\n",
       "CD4 central memory            6540\n",
       "CD4 cytotoxic                 6254\n",
       "CD4 Tfh                       6188\n",
       "CD4 Neat1                     5080\n",
       "CD8 late activated            4816\n",
       "NK                            4665\n",
       "CD8 Neat1                     4562\n",
       "CD4 Th17                      4215\n",
       "CD8 effector memory           4104\n",
       "CD8 central memory            4002\n",
       "CD8 effector                  3935\n",
       "macrophage_NLRP3              3799\n",
       "CD8 early Texh                3381\n",
       "CD8 terminal Texh             3299\n",
       "CD4 Treg (CCR8+)              3066\n",
       "CD4 HSP                       2956\n",
       "CD8 early activated           2824\n",
       "CD4 Treg (resting)            2614\n",
       "Plasma (IgG +IgK)             2336\n",
       "macrophage_C1QC               1874\n",
       "CD8 naive                     1795\n",
       "Mast                          1687\n",
       "gdT                           1685\n",
       "B (naive/progenitor)          1467\n",
       "CD8 Temra                     1412\n",
       "cDC2                          1079\n",
       "B (activated/memory           1069\n",
       "CD8 progenitor Texh            894\n",
       "Plasmacytoid DC                810\n",
       "CD4 proliferating              779\n",
       "CD8 HSP                        704\n",
       "macrophage_C1QC_inflamed       601\n",
       "cDC2_inflamed                  569\n",
       "NKT                            555\n",
       "MAIT                           489\n",
       "macrophage_NLRP3_inflamed      478\n",
       "CD8 proliferating              358\n",
       "cDC1                           266\n",
       "migratory/cDC3                 210\n",
       "Name: count, dtype: int64"
      ]
     },
     "execution_count": 22,
     "metadata": {},
     "output_type": "execute_result"
    }
   ],
   "source": [
    "adata.obs['celltype_L5'].value_counts()"
   ]
  },
  {
   "cell_type": "code",
   "execution_count": 23,
   "id": "69203f4a-2f58-4f53-897d-2619fd1756d0",
   "metadata": {},
   "outputs": [
    {
     "data": {
      "text/plain": [
       "celltype_irea_types\n",
       "CD4+ T cell    49114\n",
       "B cell         43334\n",
       "CD8+ T cell    36575\n",
       "Macrophage      6752\n",
       "Treg            5680\n",
       "NK cell         5220\n",
       "Mast cell       1687\n",
       "γδ T cell       1685\n",
       "cDC2            1648\n",
       "pDC              810\n",
       "cDC1             266\n",
       "MigDC            210\n",
       "Name: count, dtype: int64"
      ]
     },
     "execution_count": 23,
     "metadata": {},
     "output_type": "execute_result"
    }
   ],
   "source": [
    "adata.obs['celltype_irea_types'].value_counts()"
   ]
  },
  {
   "cell_type": "code",
   "execution_count": null,
   "id": "718c78e3-455c-44fa-a367-598d437fbf84",
   "metadata": {},
   "outputs": [],
   "source": []
  }
 ],
 "metadata": {
  "kernelspec": {
   "display_name": "Python 3 (ipykernel)",
   "language": "python",
   "name": "python3"
  },
  "language_info": {
   "codemirror_mode": {
    "name": "ipython",
    "version": 3
   },
   "file_extension": ".py",
   "mimetype": "text/x-python",
   "name": "python",
   "nbconvert_exporter": "python",
   "pygments_lexer": "ipython3",
   "version": "3.13.0"
  }
 },
 "nbformat": 4,
 "nbformat_minor": 5
}
